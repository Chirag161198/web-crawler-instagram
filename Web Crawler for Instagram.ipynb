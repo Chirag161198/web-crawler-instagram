{
 "cells": [
  {
   "cell_type": "markdown",
   "metadata": {},
   "source": [
    "# Instagram Web Crawler\n",
    "### Import libraries and login to Instagram\n",
    "`credentials.py` contains two string variables, `username` and `password` which contains Instagram's account username and password respectively"
   ]
  },
  {
   "cell_type": "code",
   "execution_count": null,
   "metadata": {},
   "outputs": [],
   "source": [
    "from instagramapi import InstagramAPI\n",
    "import numpy as np\n",
    "import pandas as pd\n",
    "import json\n",
    "import time\n",
    "import datetime\n",
    "import sys\n",
    "from IPython.display import clear_output\n",
    "import credentials\n",
    "InstagramAPI = InstagramAPI.InstagramAPI(credentials.username,credentials.password)\n",
    "InstagramAPI.login();"
   ]
  },
  {
   "cell_type": "markdown",
   "metadata": {},
   "source": [
    "### Get full name and respective user Id\n",
    "`Instagram.API.timelineFeed()` searchs provided account's timeline and returns latest posts\n",
    "`user` key of every post stores full name as `full_name`, user Id as `pk` and many more information"
   ]
  },
  {
   "cell_type": "code",
   "execution_count": null,
   "metadata": {
    "scrolled": false
   },
   "outputs": [],
   "source": [
    "new_users_name = np.array([])\n",
    "new_users_user_id = np.array([])\n",
    "\n",
    "InstagramAPI.timelineFeed()\n",
    "result = InstagramAPI.LastJson\n",
    "\n",
    "for item in result['items']:\n",
    "    user_data = item.get('user',False)\n",
    "    if user_data != False:\n",
    "        new_users_name = np.append(new_users_name , user_data.get('full_name',np.nan))\n",
    "        new_users_user_id = np.append(new_users_user_id , str(user_data.get('pk',np.nan)))\n",
    "        \n",
    "print(new_users_name)\n",
    "print(new_users_user_id)"
   ]
  },
  {
   "cell_type": "markdown",
   "metadata": {},
   "source": [
    "### Function for getting number of tags in post\n",
    "Returns number of tags in `post` sent as arguement"
   ]
  },
  {
   "cell_type": "code",
   "execution_count": null,
   "metadata": {},
   "outputs": [],
   "source": [
    "def user_tags(post):\n",
    "    if 'usertags' in post:\n",
    "        if 'in' in post['usertags']:\n",
    "            return len(post['usertags']['in'])\n",
    "        else:\n",
    "            return 0\n",
    "    else:\n",
    "        return 0"
   ]
  },
  {
   "cell_type": "markdown",
   "metadata": {},
   "source": [
    "### Function for checking if location was added on post"
   ]
  },
  {
   "cell_type": "code",
   "execution_count": null,
   "metadata": {},
   "outputs": [],
   "source": [
    "def location_present(post):\n",
    "    if 'location' in post:\n",
    "        return True\n",
    "    else:\n",
    "        return False"
   ]
  },
  {
   "cell_type": "markdown",
   "metadata": {},
   "source": [
    "### Function for getting user info from user's profile\n",
    "`InstagramAPI.getUsernameInfo(userId)` returns user info\n",
    "\n",
    "If getUsernameInfo() returns error that means `user` key does not exist and hence return 0 to skip the userid"
   ]
  },
  {
   "cell_type": "code",
   "execution_count": null,
   "metadata": {},
   "outputs": [],
   "source": [
    "def get_user_info(userid):\n",
    "    time.sleep(2)\n",
    "    InstagramAPI.getUsernameInfo(int(float(userid)))\n",
    "    \n",
    "    if 'user' in InstagramAPI.LastJson:\n",
    "        user_info = InstagramAPI.LastJson['user']\n",
    "    else:\n",
    "        print('Skipped')\n",
    "        return 0\n",
    "    \n",
    "    URL = user_info.get('external_url',np.nan)\n",
    "    if URL == \"\":\n",
    "        URL = np.nan\n",
    "    \n",
    "    data = {\n",
    "        'is_Private' : user_info.get('is_private',np.nan),\n",
    "        'Followers' : user_info.get('follower_count',np.nan),\n",
    "        'Following' : user_info.get('following_count',np.nan),\n",
    "        'URL' : URL,\n",
    "        'Verified' : user_info.get('is_verified',np.nan)\n",
    "    }\n",
    "    return data"
   ]
  },
  {
   "cell_type": "markdown",
   "metadata": {},
   "source": [
    "### Function for getting information about post\n",
    "Returns `dict object` that stores information about post\n",
    "\n",
    "If we are not able to extract user info from his/her profile `get_user_info` returns 0 and hence `get_post_info` also returns 0 to skip retrieving information about this post"
   ]
  },
  {
   "cell_type": "code",
   "execution_count": null,
   "metadata": {},
   "outputs": [],
   "source": [
    "def get_post_info(post,user_data):\n",
    "    timestamp_value = int(post['taken_at'])\n",
    "    date_data = datetime.datetime.fromtimestamp(timestamp_value)\n",
    "\n",
    "    data = {\n",
    "        'media_id' : post.get('id',np.nan),\n",
    "        'username' : post['user'].get('username',np.nan),\n",
    "        'user_id' : post['user'].get('pk',np.nan),\n",
    "        'Hour' : date_data.hour,\n",
    "        'Date' : date_data.day,\n",
    "        'Month' : date_data.month,\n",
    "        'Year' : date_data.year,\n",
    "        'Number_of_Tags' : user_tags(post),\n",
    "        'Location_Available' : location_present(post),\n",
    "        'Media_Type' : post.get('media_type',np.nan),\n",
    "        'is_Private' : user_data['is_Private'],\n",
    "        'Followers' : user_data['Followers'],\n",
    "        'Following' : user_data['Following'],\n",
    "        'External Url on Bio' : user_data['URL'],\n",
    "        'Verified' : user_data['Verified'],\n",
    "        'Likes' :post.get('like_count',np.nan),\n",
    "    }\n",
    "    return data"
   ]
  },
  {
   "cell_type": "markdown",
   "metadata": {},
   "source": [
    "### Function for getting information about every post of every user Id\n",
    "Not check for more than 50 more posts on each user Id and that post should have been posted in last 3 and 45 days to ensure  Followers count and Number of Following have been almost same at that time also"
   ]
  },
  {
   "cell_type": "code",
   "execution_count": null,
   "metadata": {
    "scrolled": false
   },
   "outputs": [],
   "source": [
    "def get_data(new_users_user_id):\n",
    "    \n",
    "    # Array to append on post data\n",
    "    data_arr = np.array([])\n",
    "    \n",
    "    # User Number currently getting post of\n",
    "    user_number = 1\n",
    "    \n",
    "    # Iterate through every user-ID\n",
    "    for id in new_users_user_id:\n",
    "        \n",
    "        # Clear the current output and print new user number\n",
    "        clear_output(wait=True)\n",
    "        print('User Number',user_number,sep=': ')\n",
    "        \n",
    "        i=1\n",
    "        userposts=[]\n",
    "        has_more_posts = True\n",
    "        max_id=''\n",
    "        \n",
    "        # Get User info for current id. If not available then do not get its post\n",
    "        user_data = get_user_info(id)\n",
    "        if user_data == 0:\n",
    "            has_more_posts = False\n",
    "        \n",
    "        # Get post if number of post for this user is less than 50 or more posts are available\n",
    "        while (has_more_posts) and i<=50:\n",
    "            \n",
    "            # Get timeline feed of user\n",
    "            InstagramAPI.getUserFeed(usernameId = int(float(id)),maxid=max_id)\n",
    "            user_timeline = InstagramAPI.LastJson\n",
    "            \n",
    "            # Check if more post is key in user_timeline. If yes, then check for True/False. Else, assume no more post available\n",
    "            if 'more_available' in user_timeline:\n",
    "                if user_timeline['more_available'] is not True:\n",
    "                    has_more_posts = False\n",
    "\n",
    "                # Get the ID of next post\n",
    "                max_id = user_timeline.get('next_max_id','')\n",
    "                posts = user_timeline['items']\n",
    "\n",
    "                # Increase the number of post considered for this user\n",
    "                i = i + len(posts)\n",
    "\n",
    "                # Checking for post that were posted between last 3 and 45\n",
    "                for post in posts:\n",
    "                    old = (time.time() - int(post['taken_at']))/(60*60*24)\n",
    "                    if (old >= 3) & (old<=45):\n",
    "                        data = get_post_info(post,user_data)\n",
    "                        \n",
    "                        data_arr = np.append(data_arr,data)\n",
    "                        \n",
    "                # Slows the script down to avoid flooding the servers\n",
    "                time.sleep(2)\n",
    "                \n",
    "            else:\n",
    "                has_more_posts = False\n",
    "                \n",
    "        user_number = user_number + 1\n",
    "        \n",
    "    return data_arr"
   ]
  },
  {
   "cell_type": "markdown",
   "metadata": {},
   "source": [
    "### Run the following cell to intialise a empty userID array"
   ]
  },
  {
   "cell_type": "code",
   "execution_count": null,
   "metadata": {},
   "outputs": [],
   "source": [
    "userID = np.array([])"
   ]
  },
  {
   "cell_type": "markdown",
   "metadata": {},
   "source": [
    "### Function to get user Id from names\n",
    "\n",
    "### Second part calls `get_data` and get all posts info\n",
    "\n",
    "`names` variable is a list of all names for which we want to search for explicitly"
   ]
  },
  {
   "cell_type": "code",
   "execution_count": null,
   "metadata": {},
   "outputs": [],
   "source": [
    "def search_user_id(names):\n",
    "    ids = np.array([])\n",
    "    \n",
    "    # If no names present then return empty array, else get corresponding IDs and return that\n",
    "    if len(names) == 0:\n",
    "        return ids\n",
    "    \n",
    "    for name in names:\n",
    "        InstagramAPI.searchUsers(name)\n",
    "        user = InstagramAPI.LastJson['users'][0]\n",
    "        ids = np.append(ids,user.get('pk',np.nan))\n",
    "    \n",
    "    return ids\n",
    "\n",
    "names = []\n",
    "userID = np.append(userID,search_user_id(names))"
   ]
  },
  {
   "cell_type": "markdown",
   "metadata": {},
   "source": [
    "### Run the following cell to get user ID of all people you are following on Instagram"
   ]
  },
  {
   "cell_type": "code",
   "execution_count": null,
   "metadata": {},
   "outputs": [],
   "source": [
    "InstagramAPI.getSelfUsersFollowing()\n",
    "users = InstagramAPI.LastJson['users']\n",
    "\n",
    "for user in users:\n",
    "    userID = np.append(userID,user['pk'])"
   ]
  },
  {
   "cell_type": "markdown",
   "metadata": {},
   "source": [
    "### Run the following cell to get array that post information"
   ]
  },
  {
   "cell_type": "code",
   "execution_count": null,
   "metadata": {
    "scrolled": true
   },
   "outputs": [],
   "source": [
    "data_arr = get_data(np.append(new_users_user_id,userID))"
   ]
  },
  {
   "cell_type": "markdown",
   "metadata": {},
   "source": [
    "`post_df` contains the old data frame\n",
    "\n",
    "`new_df` is the new DataFrame made from post information\n",
    "\n",
    "Both the DataFrame are combined and stored as `train_instagram_data`"
   ]
  },
  {
   "cell_type": "code",
   "execution_count": null,
   "metadata": {},
   "outputs": [],
   "source": [
    "post_df = pd.read_csv('train_instagram_data.csv',index_col=0)\n",
    "\n",
    "new_df = pd.DataFrame.from_records(data_arr,columns = [\n",
    "        'media_id',\n",
    "        'username',\n",
    "        'user_id',\n",
    "        'Hour',\n",
    "        'Date',\n",
    "        'Month',\n",
    "        'Year',\n",
    "        'Number_of_Tags',\n",
    "        'Location_Available',\n",
    "        'Media_Type',\n",
    "        'is_Private',\n",
    "        'Followers',\n",
    "        'Following',\n",
    "        'External Url on Bio',\n",
    "        'Verified',\n",
    "        'Likes'\n",
    "])\n",
    "\n",
    "post_df = post_df.append(new_df,ignore_index=True)\n",
    "post_df.to_csv(path_or_buf='train_instagram_data.csv')"
   ]
  }
 ],
 "metadata": {
  "kernelspec": {
   "display_name": "Python 3",
   "language": "python",
   "name": "python3"
  },
  "language_info": {
   "codemirror_mode": {
    "name": "ipython",
    "version": 3
   },
   "file_extension": ".py",
   "mimetype": "text/x-python",
   "name": "python",
   "nbconvert_exporter": "python",
   "pygments_lexer": "ipython3",
   "version": "3.7.1"
  }
 },
 "nbformat": 4,
 "nbformat_minor": 2
}
